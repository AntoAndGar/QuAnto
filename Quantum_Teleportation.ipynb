{
 "cells": [
  {
   "cell_type": "code",
   "execution_count": 1,
   "metadata": {},
   "outputs": [
    {
     "data": {
      "application/vnd.jupyter.widget-view+json": {
       "model_id": "964b77826d3e4ef197285deda738c123",
       "version_major": 2,
       "version_minor": 0
      },
      "text/plain": [
       "CircuitComposer(circuit=<qiskit.circuit.quantumcircuit.QuantumCircuit object at 0x7fb52701de70>)"
      ]
     },
     "execution_count": 1,
     "metadata": {},
     "output_type": "execute_result"
    }
   ],
   "source": [
    "from ibm_quantum_widgets import CircuitComposer\n",
    "from qiskit import QuantumRegister, ClassicalRegister, QuantumCircuit\n",
    "from numpy import pi\n",
    "\n",
    "qreg_q = QuantumRegister(3, 'q')\n",
    "creg_c = ClassicalRegister(2, 'c')\n",
    "circuit = QuantumCircuit(qreg_q, creg_c)\n",
    "\n",
    "circuit.h(qreg_q[1])\n",
    "circuit.cx(qreg_q[1], qreg_q[2])\n",
    "circuit.barrier(qreg_q[0], qreg_q[1], qreg_q[2])\n",
    "circuit.cx(qreg_q[0], qreg_q[1])\n",
    "circuit.h(qreg_q[0])\n",
    "circuit.barrier(qreg_q[0], qreg_q[1], qreg_q[2])\n",
    "circuit.measure(qreg_q[0], creg_c[0])\n",
    "circuit.measure(qreg_q[1], creg_c[1])\n",
    "circuit.barrier(qreg_q[0], qreg_q[1], qreg_q[2])\n",
    "circuit.id(qreg_q[2]).c_if(creg_c, 0)\n",
    "circuit.x(qreg_q[2]).c_if(creg_c, 1)\n",
    "circuit.z(qreg_q[2]).c_if(creg_c, 2)\n",
    "circuit.y(qreg_q[2]).c_if(creg_c, 3)\n",
    "circuit.measure(qreg_q[2], creg_c[1])\n",
    "\n",
    "\n",
    "editor = CircuitComposer(circuit=circuit)\n",
    "editor"
   ]
  },
  {
   "cell_type": "code",
   "execution_count": null,
   "metadata": {},
   "outputs": [],
   "source": []
  }
 ],
 "metadata": {
  "kernelspec": {
   "display_name": "Python 3 (ipykernel)",
   "language": "python",
   "name": "python3"
  },
  "language_info": {
   "codemirror_mode": {
    "name": "ipython",
    "version": 3
   },
   "file_extension": ".py",
   "mimetype": "text/x-python",
   "name": "python",
   "nbconvert_exporter": "python",
   "pygments_lexer": "ipython3",
   "version": "3.10.8"
  },
  "widgets": {
   "application/vnd.jupyter.widget-state+json": {
    "state": {
     "66f32440a1fe4500a5849acedb867c6c": {
      "model_module": "@jupyter-widgets/base",
      "model_module_version": "2.0.0",
      "model_name": "LayoutModel",
      "state": {}
     },
     "964b77826d3e4ef197285deda738c123": {
      "model_module": "@quantum/lab-widgets",
      "model_module_version": "4.0.52",
      "model_name": "CircuitComposerModel",
      "state": {
       "circuit": "\"OPENQASM 2.0;\\ninclude \\\"qelib1.inc\\\";\\nqreg q[3];\\ncreg c[2];\\nh q[1];\\ncx q[1],q[2];\\nbarrier q[0],q[1],q[2];\\ncx q[0],q[1];\\nh q[0];\\nbarrier q[0],q[1],q[2];\\nmeasure q[0] -> c[0];\\nmeasure q[1] -> c[1];\\nbarrier q[0],q[1],q[2];\\nif(c==0) id q[2];\\nif(c==1) x q[2];\\nif(c==2) z q[2];\\nif(c==3) y q[2];\\nmeasure q[2] -> c[1];\\n\"",
       "editable": true,
       "layout": "IPY_MODEL_66f32440a1fe4500a5849acedb867c6c",
       "qiskit_code_cell_index": -1
      }
     }
    },
    "version_major": 2,
    "version_minor": 0
   }
  }
 },
 "nbformat": 4,
 "nbformat_minor": 4
}
