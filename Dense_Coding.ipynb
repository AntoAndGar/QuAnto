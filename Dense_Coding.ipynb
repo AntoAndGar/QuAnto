{
 "cells": [
  {
   "cell_type": "code",
   "execution_count": 1,
   "metadata": {},
   "outputs": [
    {
     "data": {
      "application/vnd.jupyter.widget-view+json": {
       "model_id": "f81f949e9a484d0a8b8c76ae94884fc5",
       "version_major": 2,
       "version_minor": 0
      },
      "text/plain": [
       "CircuitComposer(circuit=<qiskit.circuit.quantumcircuit.QuantumCircuit object at 0x7f845edfa530>)"
      ]
     },
     "execution_count": 1,
     "metadata": {},
     "output_type": "execute_result"
    }
   ],
   "source": [
    "from ibm_quantum_widgets import CircuitComposer\n",
    "from qiskit import QuantumRegister, ClassicalRegister, QuantumCircuit\n",
    "from numpy import pi\n",
    "\n",
    "qreg_q = QuantumRegister(2, 'q')\n",
    "creg_c = ClassicalRegister(2, 'c')\n",
    "circuit = QuantumCircuit(qreg_q, creg_c)\n",
    "\n",
    "circuit.h(qreg_q[1])\n",
    "circuit.id(qreg_q[0])\n",
    "circuit.cx(qreg_q[1], qreg_q[0])\n",
    "circuit.barrier(qreg_q[0], qreg_q[1])\n",
    "circuit.z(qreg_q[1])\n",
    "circuit.id(qreg_q[0])\n",
    "circuit.barrier(qreg_q[0], qreg_q[1])\n",
    "circuit.cx(qreg_q[1], qreg_q[0])\n",
    "circuit.h(qreg_q[1])\n",
    "circuit.id(qreg_q[0])\n",
    "circuit.barrier(qreg_q[0], qreg_q[1])\n",
    "circuit.measure(qreg_q[0], creg_c[0])\n",
    "circuit.measure(qreg_q[1], creg_c[1])\n",
    "\n",
    "\n",
    "editor = CircuitComposer(circuit=circuit)\n",
    "editor"
   ]
  },
  {
   "cell_type": "code",
   "execution_count": null,
   "metadata": {},
   "outputs": [],
   "source": []
  }
 ],
 "metadata": {
  "kernelspec": {
   "display_name": "Python 3 (ipykernel)",
   "language": "python",
   "name": "python3"
  },
  "language_info": {
   "codemirror_mode": {
    "name": "ipython",
    "version": 3
   },
   "file_extension": ".py",
   "mimetype": "text/x-python",
   "name": "python",
   "nbconvert_exporter": "python",
   "pygments_lexer": "ipython3",
   "version": "3.10.8"
  },
  "widgets": {
   "application/vnd.jupyter.widget-state+json": {
    "state": {
     "994cf8d1f7584b9fa2673a59341faf58": {
      "model_module": "@jupyter-widgets/base",
      "model_module_version": "2.0.0",
      "model_name": "LayoutModel",
      "state": {}
     },
     "f81f949e9a484d0a8b8c76ae94884fc5": {
      "model_module": "@quantum/lab-widgets",
      "model_module_version": "4.0.52",
      "model_name": "CircuitComposerModel",
      "state": {
       "circuit": "\"OPENQASM 2.0;\\ninclude \\\"qelib1.inc\\\";\\nqreg q[2];\\ncreg c[2];\\nh q[1];\\nid q[0];\\ncx q[1],q[0];\\nbarrier q[0],q[1];\\nz q[1];\\nid q[0];\\nbarrier q[0],q[1];\\ncx q[1],q[0];\\nh q[1];\\nid q[0];\\nbarrier q[0],q[1];\\nmeasure q[0] -> c[0];\\nmeasure q[1] -> c[1];\\n\"",
       "editable": true,
       "layout": "IPY_MODEL_994cf8d1f7584b9fa2673a59341faf58",
       "qiskit_code_cell_index": -1
      }
     }
    },
    "version_major": 2,
    "version_minor": 0
   }
  }
 },
 "nbformat": 4,
 "nbformat_minor": 4
}
